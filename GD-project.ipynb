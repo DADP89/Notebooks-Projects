{
  "cells": [
    {
      "cell_type": "markdown",
      "metadata": {
        "id": "n8vEg9EnSNiD"
      },
      "source": [
        "# **Data Entry & Cleaning: Analysis of the \"Ganadiario\" Game from TINKA**\n",
        "\n"
      ]
    },
    {
      "cell_type": "markdown",
      "metadata": {
        "id": "9VxP8fLbZY-a"
      },
      "source": [
        "## Table of Contents\n",
        "\n",
        "1. [Introduction](#introduction)\n",
        "2. [Goals](#goals)\n",
        "3. [Data Description](#data-description)\n",
        "4. [Tools Used](#tools-used)\n",
        "5. [Methodology](#methodology)\n",
        "6. [Results](#results)\n",
        "7. [Conclusion](#conclusion)\n",
        "8. [Attachments](#attachments)"
      ]
    },
    {
      "cell_type": "markdown",
      "metadata": {
        "id": "POXKH1q5ZSNV"
      },
      "source": [
        "### **Introduction**\n",
        "\n",
        "This project uses historical data from the Ganadiario game by TINKA. In this game, five numbers (from 1 to 35) are drawn without repeating. The numbers are stored in a random order. The goal is to organize the data and make a frequency table for each number in each position.\n",
        "\n",
        "<br>\n",
        "\n",
        "#### *<<**Note:** For the development of this project the format “dd/mm/yyyy” was used for dates.>>*\n",
        "\n",
        "<br>"
      ]
    },
    {
      "cell_type": "markdown",
      "metadata": {
        "id": "s4h9QPkvZJtS"
      },
      "source": [
        "### **Goals**\n",
        "\n",
        "* Clean and order the data: Arrange each set of numbers in ascending order.\n",
        "* Create a frequency table: Count how many times each number appears in each position.\n",
        "* Apply conditional formatting: Highlight the numbers that appear most often.\n",
        "* Show my skills: Demonstrate my abilities in data entry, data cleaning, and data analysis using Google Sheets.\n",
        "\n",
        "<br>"
      ]
    },
    {
      "cell_type": "markdown",
      "metadata": {
        "id": "juH5JO9YZDNI"
      },
      "source": [
        "### **Data Description**\n",
        "\n",
        "* Source: Historical records of the Ganadiario game by TINKA.\n",
        "* Content: Each record has the date of the draw, the draw number and the five balls with the random numbers that make up the winning ticket of the day.\n",
        "* Original format: Raw data that needs to be organized.\n",
        "\n",
        "<br>"
      ]
    },
    {
      "cell_type": "markdown",
      "metadata": {
        "id": "_ivUh5VjY8aC"
      },
      "source": [
        "### **Tools Used**\n",
        "\n",
        "* Google Sheets: For data entry, cleaning, and analysis.\n",
        "* Formulas: to order the numbers in each record, to obtain the frequency of each number by its position and to obtain subsets by filtration.\n",
        "* Conditional Formatting: To highlight the most frequent numbers.\n",
        "* Screenshots and Video: To show the process step by step.\n",
        "* Visual Studio Code & Jupyter Notebook: To prepare the project documentation.\n",
        "\n",
        "<br>"
      ]
    },
    {
      "cell_type": "markdown",
      "metadata": {
        "id": "YYhoewwoYelX"
      },
      "source": [
        "### **Methodology**\n",
        "\n",
        "#### **Data Collection**\n",
        "\n",
        "* Import the historical data into a spreadsheet. <br>\n",
        "* We access the [Ganadiario](https://www.latinka.com.pe/p/juega-ganadiario.html) website and download the historical dataset. For practical purposes, we consider records from the year 2023 to the current date at the time of writing (4/03/2025).\n",
        "\n",
        "<figure>\n",
        "  <img src=\"https://i.postimg.cc/W3yp7br6/1-Web-Site-Ganadiario.png\" alt=\"1-Web-Site-Ganadiario\">\n",
        "  <figcaption><i>Click on the yellow button.</i></figcaption>\n",
        "</figure>\n",
        "\n",
        "<br>\n",
        "\n",
        "\n",
        "<figure>\n",
        "  <img src=\"https://i.postimg.cc/Dmk2tjxS/2-Winning-ticket-day.png\" alt=\"2-Winning-ticket-day\">\n",
        "  <figcaption><i>Click on the light-blue button.</i></figcaption>\n",
        "</figure>\n",
        "\n",
        "<br>\n",
        "\n",
        "\n",
        "<figure>\n",
        "  <img src=\"https://i.postimg.cc/sxZjHd4F/3-Historical-records.png\" alt=\"3-Historical-records\">\n",
        "  <figcaption><i>Table with historical data from 1/12/2003.</i></figcaption>\n",
        "</figure>\n",
        "\n",
        "<br>\n",
        "\n",
        "\n",
        "<figure>\n",
        "  <img src=\"https://i.postimg.cc/sfB5CMnz/4-Data-in-Google-Sheets.png\" alt=\"4-Data-in-Google-Sheets\">\n",
        "  <figcaption><i>We copy only the records from the year 2023 to the current date (4/03/2025).</i></figcaption>\n",
        "</figure>\n",
        "\n",
        "<br>\n"
      ]
    },
    {
      "cell_type": "markdown",
      "metadata": {
        "id": "8FptIIecYK4Z"
      },
      "source": [
        "#### **Data Cleaning and Organization**\n",
        "\n",
        "Remove the column indicating the draw number. Only the date column and the winning combination of the day remain.\n",
        "\n",
        "<figure>\n",
        "  <img src=\"https://i.postimg.cc/9XvZmcS7/5-Drop-Sorteo-Column.png\" alt=\"5-Drop-Sorteo-Column\">\n",
        "  <figcaption><i>Only the “Fecha” (date) and “Bolillas” (balls) columns remain.</i></figcaption>\n",
        "</figure>\n",
        "\n",
        "<br>\n",
        "\n",
        "\n",
        "Pass the values of the column “Bolillas” (balls) to columns (text to columns) using the space character as separator.\n",
        "\n",
        "<figure>\n",
        "  <img src=\"https://i.postimg.cc/WbgrtQLf/6-0-Text-to-columns.png\" alt=\"6-0-Text-to-columns\">\n",
        "  <figcaption><i>Text to columns and rename headers.</i></figcaption>\n",
        "</figure>\n",
        "\n",
        "<br>\n",
        "\n",
        "\n",
        "The formula *=TRANSPOSE(SORT(TRANSPOSE(range_balls_row)))* is used to horizontally sort the balls in each record.\n",
        "\n",
        "<figure>\n",
        "  <img src=\"https://i.postimg.cc/YCxWzYS6/7-Complete-sort-rows.png\" alt=\"7-Complete-sort-rows\">\n",
        "  <figcaption><i>Sort balls in each row</i></figcaption>\n",
        "</figure>\n",
        "\n",
        "<br>\n",
        "\n",
        "\n",
        "Move headers to new ordered values\n",
        "\n",
        "<figure>\n",
        "  <img src=\"https://i.postimg.cc/5tNF7yHZ/8-Move-headers-balls.png\" alt=\"8-Move-headers-balls\">\n",
        "</figure>\n",
        "\n",
        "<br>\n",
        "\n",
        "\n",
        "Copy and paste only the values of the columns with the ordered balls so as not to depend on the formulas and thus be able to eliminate the columns with the unordered balls.\n",
        "\n",
        "<figure>\n",
        "  <img src=\"https://i.postimg.cc/jjgnGTPC/9-Copy-paste-only-values.png\" alt=\"9-Copy-paste-only-values\">\n",
        "</figure>\n",
        "\n",
        "<br>\n",
        "\n",
        "\n",
        "Remove the columns containing the balls with unordered numbers.\n",
        "\n",
        "<figure>\n",
        "  <img src=\"https://i.postimg.cc/j5DnT14c/10-Select-Columns-to-Drop.png\" alt=\"10-Select-Columns-to-Drop\">\n",
        "</figure>\n",
        "\n",
        "<br>\n",
        "\n",
        "\n",
        "<figure>\n",
        "  <img src=\"https://i.postimg.cc/vBCgZvPs/11-Drop-Columns.png\" alt=\"11-Drop-Columns\">\n",
        "  <figcaption><i>Only the date and ball columns with the numbers ordered from lowest to highest are retained.</i></figcaption>\n",
        "</figure>\n",
        "\n",
        "<br>\n",
        "\n",
        "\n",
        "<figure>\n",
        "  <img src=\"https://i.postimg.cc/cCYKg8j8/12-Rename-headers.png\" alt=\"12-Rename-headers\">\n",
        "  <figcaption><i>Rename headers.</i></figcaption>\n",
        "</figure>\n",
        "\n",
        "<br>\n",
        "\n",
        "\n",
        "<figure>\n",
        "  <img src=\"https://i.postimg.cc/bY2SFKJN/13-Convert-table-rename.png\" alt=\"13-Convert-table-rename\">\n",
        "  <figcaption><i>Format the data set as a table. Rename the table as “Ganadiario”.</i></figcaption>\n",
        "</figure>\n",
        "\n",
        "<br>\n",
        "\n",
        "\n",
        "<figure>\n",
        "  <img src=\"https://i.postimg.cc/8zw76Gyw/16-Format-headers.png\" alt=\"16-Format-headers\">\n",
        "  <figcaption><i>Number format is applied to the numeric columns (BALL 1 to 5) and date format to the date column.</i></figcaption>\n",
        "</figure>\n",
        "\n",
        "<br>"
      ]
    },
    {
      "cell_type": "markdown",
      "metadata": {
        "id": "vWHMBiv-X7uX"
      },
      "source": [
        "#### **Frequency Analysis**\n",
        "\n",
        "Create a frequency table to count how many times each number appears in each column by position.\n",
        "\n",
        "<figure>\n",
        "  <img src=\"https://i.postimg.cc/HswcTXXq/17-Frequency-sheet.png\" alt=\"17-Frequency-sheet\">\n",
        "</figure>\n",
        "\n",
        "<br>\n",
        "\n",
        "\n",
        "The COUNTIF function is used to calculate the frequency of ball 1 in position 1. The formula is as follows *=COUNTIF(Ganadiario[BALL 1]; $A2)*\n",
        "<br>This is done in the same way for the other columns Ganadiario[BALL 2] in position 2, Ganadiario[BALL 3] in position 3 and so on.<br>*It's normal that the value zero appears in the other positions.*\n",
        "\n",
        "<figure>\n",
        "  <img src=\"https://i.postimg.cc/1ztf0d2S/18-Count-If-ball.png\" alt=\"18-Count-If-ball\">\n",
        "</figure>\n",
        "\n",
        "<br>\n",
        "\n",
        "\n",
        "Select the numbers in the first row and drag down to obtain the frequencies by position of the other balls.\n",
        "\n",
        "<figure>\n",
        "  <img src=\"https://i.postimg.cc/zfc3xjYg/19-Count-If-all-balls.png\" alt=\"19-Count-If-all-balls\">\n",
        "</figure>\n",
        "\n",
        "<br>\n",
        "\n",
        "\n",
        "It is more interesting to obtain the frequencies by position based on specific date ranges. To do this, some rows are incorporated above the table to implement cells in date format that allow us to enter the filter dates. In addition, the formula in each frequency cell is changed so that the values are updated with the date filter.\n",
        "<br>\n",
        "\n",
        "\n",
        "The formula for ball 1 in position 1 is as follows:\n",
        "<br>\n",
        "*=IFERROR(COUNTIFS(Ganadiario[BALL 1]; $A4; Ganadiario[DATE]; \">=\" & $C$1; Ganadiario[DATE]; \"<=\" & $E$1); 0)*\n",
        "\n",
        "<figure>\n",
        "  <img src=\"https://i.postimg.cc/HnQxs1cw/20-Count-from-to.png\" alt=\"20-Count-from-to\">\n",
        "  <figcaption><i>To get the other values in the same row, you must change Ganadiario[BALL 2], Ganadiario[BALL 3] ... and so on. Then select the numeric cells of the first row and drag down to obtain the frequencies by position of the other balls.</i></figcaption>\n",
        "</figure>\n",
        "\n",
        "<br>"
      ]
    },
    {
      "cell_type": "markdown",
      "metadata": {
        "id": "hnHW3dBDXoyr"
      },
      "source": [
        "#### **Conditional Formatting**\n",
        "\n",
        "Choose colors and set rules (conditional formatting) to highlight the important numbers (balls) in each position.\n",
        "\n",
        "<figure>\n",
        "  <img src=\"https://i.postimg.cc/bJSrWtqF/21-Reformat-inmovilizar.png\" alt=\"21-Reformat-inmovilizar\">\n",
        "</figure>\n",
        "\n",
        "<br>\n",
        "\n",
        "\n",
        "The total number of occurrences of each number (ball) within the established date range ***(from 1/01/2024 to 31/12/2024)*** is calculated. A small table (to the right of the frequency table) is also added with the information of the ten most frequent numbers within the established dates.\n",
        "\n",
        "<figure>\n",
        "  <img src=\"https://i.postimg.cc/pV8yBzGm/23-Upper.png\" alt=\"23-Upper\">\n",
        "  <figcaption><i>The ARRAY_CONSTRAIN and SORT functions are used to obtain the ten best numbers based on their total (Columns A and G respectively). Within the SORT function the 'is_ascending' parameter is set to false to obtain the descending order.</i></figcaption>\n",
        "</figure>\n",
        "\n",
        "<br>\n",
        "\n",
        "\n",
        "Another small table is also included to obtain the ten least frequent balls in the established date range.\n",
        "\n",
        "<figure>\n",
        "  <img src=\"https://i.postimg.cc/NFhFcjMG/22-Bottom.png\" alt=\"22-Bottom\">\n",
        "  <figcaption><i>The 'is_ascending' parameter of the SORT function was set to true (VERDADERO) to get the values in ascending order.</i></figcaption>\n",
        "</figure>\n",
        "\n",
        "<br>"
      ]
    },
    {
      "cell_type": "markdown",
      "metadata": {
        "id": "UxtU-p0gXCiz"
      },
      "source": [
        "#### **Data Distribution**\n",
        "\n",
        "Finally, with the help of the MIN, MAX, QUARTILE and STDEV functions we can visualize the distributions of the numbers at each position within the date range previously set in the frequency sheet.\n",
        "\n",
        "<figure>\n",
        "  <img src=\"https://i.postimg.cc/J4L0Y0vP/24-Distribution.png\" alt=\"24-Distribution\">\n",
        "  <figcaption><i>In this sheet we can see, in an orderly manner, the distribution of the numbers (balls) by position. In addition, the most frequent and less frequent numbers can be seen in the frequency sheet by position. All this information helps us to elaborate tickets with personalized numbers without leaving everything to chance and thus to be able to have a small advantage to be drawn and win the jackpot in this lottery.</i></figcaption>\n",
        "</figure>"
      ]
    },
    {
      "cell_type": "markdown",
      "metadata": {},
      "source": [
        "### **Results**\n",
        "\n",
        "* Clean Data: Each record shows five numbers in order.\n",
        "* Frequency Table: A table that shows how often each number appears in each position.\n",
        "* Visual Highlights: Conditional formatting makes it easy to see the most frequent numbers."
      ]
    },
    {
      "cell_type": "markdown",
      "metadata": {},
      "source": [
        "### **Conclusion**\n",
        "\n",
        "This project shows my ability to clean and organize data. It also shows that I can analyze data using Google Sheets or Excel. I have skills in data entry, data cleaning, and data analysis. This project is a good example of my work and my commitment to quality and accuracy."
      ]
    },
    {
      "cell_type": "markdown",
      "metadata": {},
      "source": [
        "### **Attachments**\n",
        "\n",
        "* Screenshots: Images of the process (before and after cleaning, the frequency table, and the conditional formatting).\n",
        "* Video: A [video](https://files.catbox.moe/4fjjm2.webm) (without audio) showing the step-by-step process.\n",
        "\n",
        "<br>\n",
        "\n",
        "Go to [Table of Contents](#table-of-contents)"
      ]
    }
  ],
  "metadata": {
    "colab": {
      "provenance": [],
      "toc_visible": true
    },
    "kernelspec": {
      "display_name": "usr",
      "language": "python",
      "name": "python3"
    },
    "language_info": {
      "name": "python",
      "version": "3.11.2"
    }
  },
  "nbformat": 4,
  "nbformat_minor": 0
}
